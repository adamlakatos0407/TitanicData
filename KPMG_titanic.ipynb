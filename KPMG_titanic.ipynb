{
 "cells": [
  {
   "cell_type": "code",
   "execution_count": 1,
   "metadata": {
    "id": "DdX_z_mSnPUl"
   },
   "outputs": [],
   "source": [
    "\"\"\" IMPORT MODULES \"\"\"\n",
    "import pandas as pd\n",
    "import tensorflow as tf\n",
    "import numpy as np\n",
    "import math\n",
    "import random\n",
    "import matplotlib.pyplot as plt\n",
    "from keras import layers"
   ]
  },
  {
   "cell_type": "markdown",
   "metadata": {},
   "source": [
    "## First Look"
   ]
  },
  {
   "cell_type": "code",
   "execution_count": 2,
   "metadata": {
    "colab": {
     "base_uri": "https://localhost:8080/"
    },
    "id": "v9HUkG0NnqDk",
    "outputId": "6c8b476e-2df1-47a3-a4e5-33006ac49bce"
   },
   "outputs": [],
   "source": [
    "df_train_org = pd.read_excel(r\"D:\\dataset\\DA_titanic_train.xlsx\")\n",
    "df_test_org = pd.read_excel(r\"D:\\dataset\\DA_titanic_test.xlsx\")"
   ]
  },
  {
   "cell_type": "code",
   "execution_count": 3,
   "metadata": {
    "colab": {
     "base_uri": "https://localhost:8080/"
    },
    "id": "tLmrjhfuwy-9",
    "outputId": "7e6cbcd7-86b1-4831-dce5-191c6e74c723"
   },
   "outputs": [
    {
     "name": "stdout",
     "output_type": "stream",
     "text": [
      "<class 'pandas.core.frame.DataFrame'>\n",
      "RangeIndex: 624 entries, 0 to 623\n",
      "Data columns (total 12 columns):\n",
      " #   Column       Non-Null Count  Dtype  \n",
      "---  ------       --------------  -----  \n",
      " 0   PassengerId  624 non-null    int64  \n",
      " 1   Survived     624 non-null    int64  \n",
      " 2   Pclass       624 non-null    int64  \n",
      " 3   Name         624 non-null    object \n",
      " 4   Sex          624 non-null    object \n",
      " 5   Age          494 non-null    float64\n",
      " 6   SibSp        624 non-null    int64  \n",
      " 7   Parch        624 non-null    int64  \n",
      " 8   Ticket       624 non-null    object \n",
      " 9   Fare         624 non-null    float64\n",
      " 10  Cabin        128 non-null    object \n",
      " 11  Embarked     623 non-null    object \n",
      "dtypes: float64(2), int64(5), object(5)\n",
      "memory usage: 58.6+ KB\n"
     ]
    }
   ],
   "source": [
    "df_train_org.info()"
   ]
  },
  {
   "cell_type": "markdown",
   "metadata": {
    "id": "tNB_xOqBw309"
   },
   "source": [
    "NAN values in Age, Cabin"
   ]
  },
  {
   "cell_type": "code",
   "execution_count": 4,
   "metadata": {
    "colab": {
     "base_uri": "https://localhost:8080/",
     "height": 300
    },
    "id": "ua0OxXYAwypm",
    "outputId": "b13d22e2-1c9a-4394-f6d6-efa0d03dfac2"
   },
   "outputs": [
    {
     "data": {
      "text/html": [
       "<div>\n",
       "<style scoped>\n",
       "    .dataframe tbody tr th:only-of-type {\n",
       "        vertical-align: middle;\n",
       "    }\n",
       "\n",
       "    .dataframe tbody tr th {\n",
       "        vertical-align: top;\n",
       "    }\n",
       "\n",
       "    .dataframe thead th {\n",
       "        text-align: right;\n",
       "    }\n",
       "</style>\n",
       "<table border=\"1\" class=\"dataframe\">\n",
       "  <thead>\n",
       "    <tr style=\"text-align: right;\">\n",
       "      <th></th>\n",
       "      <th>PassengerId</th>\n",
       "      <th>Survived</th>\n",
       "      <th>Pclass</th>\n",
       "      <th>Age</th>\n",
       "      <th>SibSp</th>\n",
       "      <th>Parch</th>\n",
       "      <th>Fare</th>\n",
       "    </tr>\n",
       "  </thead>\n",
       "  <tbody>\n",
       "    <tr>\n",
       "      <th>count</th>\n",
       "      <td>624.000000</td>\n",
       "      <td>624.000000</td>\n",
       "      <td>624.000000</td>\n",
       "      <td>494.000000</td>\n",
       "      <td>624.000000</td>\n",
       "      <td>624.000000</td>\n",
       "      <td>624.000000</td>\n",
       "    </tr>\n",
       "    <tr>\n",
       "      <th>mean</th>\n",
       "      <td>459.128205</td>\n",
       "      <td>0.383013</td>\n",
       "      <td>2.328526</td>\n",
       "      <td>29.658745</td>\n",
       "      <td>0.519231</td>\n",
       "      <td>0.354167</td>\n",
       "      <td>30.523470</td>\n",
       "    </tr>\n",
       "    <tr>\n",
       "      <th>std</th>\n",
       "      <td>257.314092</td>\n",
       "      <td>0.486511</td>\n",
       "      <td>0.822684</td>\n",
       "      <td>14.770773</td>\n",
       "      <td>1.071871</td>\n",
       "      <td>0.775559</td>\n",
       "      <td>48.186064</td>\n",
       "    </tr>\n",
       "    <tr>\n",
       "      <th>min</th>\n",
       "      <td>1.000000</td>\n",
       "      <td>0.000000</td>\n",
       "      <td>1.000000</td>\n",
       "      <td>0.670000</td>\n",
       "      <td>0.000000</td>\n",
       "      <td>0.000000</td>\n",
       "      <td>0.000000</td>\n",
       "    </tr>\n",
       "    <tr>\n",
       "      <th>25%</th>\n",
       "      <td>241.750000</td>\n",
       "      <td>0.000000</td>\n",
       "      <td>2.000000</td>\n",
       "      <td>20.000000</td>\n",
       "      <td>0.000000</td>\n",
       "      <td>0.000000</td>\n",
       "      <td>7.895800</td>\n",
       "    </tr>\n",
       "    <tr>\n",
       "      <th>50%</th>\n",
       "      <td>460.500000</td>\n",
       "      <td>0.000000</td>\n",
       "      <td>3.000000</td>\n",
       "      <td>28.000000</td>\n",
       "      <td>0.000000</td>\n",
       "      <td>0.000000</td>\n",
       "      <td>13.931250</td>\n",
       "    </tr>\n",
       "    <tr>\n",
       "      <th>75%</th>\n",
       "      <td>683.250000</td>\n",
       "      <td>1.000000</td>\n",
       "      <td>3.000000</td>\n",
       "      <td>38.000000</td>\n",
       "      <td>1.000000</td>\n",
       "      <td>0.000000</td>\n",
       "      <td>30.000000</td>\n",
       "    </tr>\n",
       "    <tr>\n",
       "      <th>max</th>\n",
       "      <td>891.000000</td>\n",
       "      <td>1.000000</td>\n",
       "      <td>3.000000</td>\n",
       "      <td>80.000000</td>\n",
       "      <td>8.000000</td>\n",
       "      <td>6.000000</td>\n",
       "      <td>512.329200</td>\n",
       "    </tr>\n",
       "  </tbody>\n",
       "</table>\n",
       "</div>"
      ],
      "text/plain": [
       "       PassengerId    Survived      Pclass         Age       SibSp  \\\n",
       "count   624.000000  624.000000  624.000000  494.000000  624.000000   \n",
       "mean    459.128205    0.383013    2.328526   29.658745    0.519231   \n",
       "std     257.314092    0.486511    0.822684   14.770773    1.071871   \n",
       "min       1.000000    0.000000    1.000000    0.670000    0.000000   \n",
       "25%     241.750000    0.000000    2.000000   20.000000    0.000000   \n",
       "50%     460.500000    0.000000    3.000000   28.000000    0.000000   \n",
       "75%     683.250000    1.000000    3.000000   38.000000    1.000000   \n",
       "max     891.000000    1.000000    3.000000   80.000000    8.000000   \n",
       "\n",
       "            Parch        Fare  \n",
       "count  624.000000  624.000000  \n",
       "mean     0.354167   30.523470  \n",
       "std      0.775559   48.186064  \n",
       "min      0.000000    0.000000  \n",
       "25%      0.000000    7.895800  \n",
       "50%      0.000000   13.931250  \n",
       "75%      0.000000   30.000000  \n",
       "max      6.000000  512.329200  "
      ]
     },
     "execution_count": 4,
     "metadata": {},
     "output_type": "execute_result"
    }
   ],
   "source": [
    "df_train_org.describe()"
   ]
  },
  {
   "cell_type": "markdown",
   "metadata": {},
   "source": [
    "## Cleaning Data"
   ]
  },
  {
   "cell_type": "code",
   "execution_count": 5,
   "metadata": {
    "id": "J2OklMRGxBll"
   },
   "outputs": [],
   "source": [
    "def clean_data(data, removable_cols):\n",
    "    \"\"\"Removing columns\"\"\"\n",
    "    new_data = data.copy()\n",
    "    for col in removable_cols:\n",
    "        new_data.pop(col)\n",
    "    \n",
    "    return new_data\n",
    "\n",
    "def replace_nan_with_median(data, columns):\n",
    "    \"\"\"Replcaing NaN values with median values\"\"\"\n",
    "    for col in columns:\n",
    "        data[col].fillna(data[col].median(), inplace=True)"
   ]
  },
  {
   "cell_type": "code",
   "execution_count": 6,
   "metadata": {
    "id": "hs0ANZtSx5H-"
   },
   "outputs": [],
   "source": [
    "# Cleaning data\n",
    "removable_tables = [\"PassengerId\", \"Name\", \"Ticket\", \"Cabin\"]\n",
    "df_train = clean_data(df_train_org, removable_tables)\n",
    "df_test = clean_data(df_test_org, removable_tables)"
   ]
  },
  {
   "cell_type": "code",
   "execution_count": 7,
   "metadata": {
    "id": "_Bm4YCM90JL9"
   },
   "outputs": [],
   "source": [
    "# New table names\n",
    "table_names = [\"surv\", \"pclass\", \"male\", \"age\", \"sibsp\", \"parch\", \"fare\", \"emb\"]\n",
    "for i, name in enumerate(df_train):\n",
    "    df_train = df_train.rename({name:table_names[i]}, axis=\"columns\")\n",
    "    df_test = df_test.rename({name:table_names[i]}, axis=\"columns\")"
   ]
  },
  {
   "cell_type": "code",
   "execution_count": 8,
   "metadata": {
    "id": "KIsGEETx2qHK"
   },
   "outputs": [],
   "source": [
    "# Replace NaN values\n",
    "replace_nan_with_median(df_train, [\"age\"])\n",
    "replace_nan_with_median(df_test, [\"age\", \"fare\"])"
   ]
  },
  {
   "cell_type": "markdown",
   "metadata": {
    "id": "E68rFBCepZMM"
   },
   "source": [
    "## Feature visualization "
   ]
  },
  {
   "cell_type": "markdown",
   "metadata": {
    "id": "4zSkgb9BVHQ-"
   },
   "source": [
    "### Plot Passenger Sex"
   ]
  },
  {
   "cell_type": "code",
   "execution_count": 9,
   "metadata": {
    "id": "8Rs3yc2BlwC9"
   },
   "outputs": [],
   "source": [
    "def plot_mean(f1, f2, mean, title: str):\n",
    "  pd.concat([f1, f2], axis=1).groupby(f1)[mean].mean().plot(kind=\"bar\", title=title, rot=0)"
   ]
  },
  {
   "cell_type": "code",
   "execution_count": 10,
   "metadata": {
    "colab": {
     "base_uri": "https://localhost:8080/",
     "height": 295
    },
    "id": "--ys1HhFmD48",
    "outputId": "d1dcd1f2-738b-4a9b-a934-7f38695b804e"
   },
   "outputs": [
    {
     "data": {
      "image/png": "[encoded data removed]",
      "text/plain": [
       "<Figure size 432x288 with 1 Axes>"
      ]
     },
     "metadata": {
      "needs_background": "light"
     },
     "output_type": "display_data"
    }
   ],
   "source": [
    "plot_mean(df_train.male, df_train.surv, \"surv\", \"Survival % respect to Genders\")"
   ]
  },
  {
   "cell_type": "markdown",
   "metadata": {
    "id": "UU2awD0Cop8U"
   },
   "source": [
    "### Plot Passenger Age"
   ]
  },
  {
   "cell_type": "code",
   "execution_count": 11,
   "metadata": {
    "colab": {
     "base_uri": "https://localhost:8080/",
     "height": 299
    },
    "id": "ojlvHGYTopSl",
    "outputId": "07bc0ed4-aa3e-4f28-ac66-3bfa5b4f47e6"
   },
   "outputs": [
    {
     "data": {
      "text/plain": [
       "<AxesSubplot:title={'center':'Passenger Age'}, ylabel='Frequency'>"
      ]
     },
     "execution_count": 11,
     "metadata": {},
     "output_type": "execute_result"
    },
    {
     "data": {
      "image/png": "[encoded data removed]",
      "text/plain": [
       "<Figure size 432x288 with 1 Axes>"
      ]
     },
     "metadata": {
      "needs_background": "light"
     },
     "output_type": "display_data"
    }
   ],
   "source": [
    "df_train.age.plot(kind=\"hist\", bins=16, title=\"Passenger Age\", xlabel=\"Age in years\", rot=0)\n",
    "df_train.age[df_train.surv == 1].plot(kind=\"hist\", bins=16, title=\"Passenger Age\", xlabel=\"Age in years\", rot=0) "
   ]
  },
  {
   "cell_type": "code",
   "execution_count": 12,
   "metadata": {
    "colab": {
     "base_uri": "https://localhost:8080/",
     "height": 285
    },
    "id": "1xuSWL-Bj6i8",
    "outputId": "4b3f5608-6fbe-434e-b509-8dab5b89c5e1"
   },
   "outputs": [
    {
     "data": {
      "text/plain": [
       "<AxesSubplot:>"
      ]
     },
     "execution_count": 12,
     "metadata": {},
     "output_type": "execute_result"
    },
    {
     "data": {
      "image/png": "[encoded data removed]",
      "text/plain": [
       "<Figure size 432x288 with 1 Axes>"
      ]
     },
     "metadata": {
      "needs_background": "light"
     },
     "output_type": "display_data"
    }
   ],
   "source": [
    "# Create age bins\n",
    "age_bins = [0, 10, 20, 40, 60, 100]\n",
    "age_cat = [\"child\", \"teen\", \"young_adult\", \"adult\", \"old\" ]\n",
    "\n",
    "df_train[\"age_bins\"] = pd.cut(df_train.age, bins=age_bins, labels=age_cat)\n",
    "df_train.age_bins.value_counts().plot(kind=\"bar\", rot=0)\n",
    "\n",
    "df_test[\"age_bins\"] = pd.cut(df_test.age, bins=age_bins, labels=age_cat)\n",
    "df_test.age_bins.value_counts().plot(kind=\"bar\", rot=0)"
   ]
  },
  {
   "cell_type": "code",
   "execution_count": 13,
   "metadata": {
    "id": "QhDPVtnKsz3K"
   },
   "outputs": [],
   "source": [
    "# One hot encode age\n",
    "one_hot_age = pd.get_dummies(df_train.age_bins)\n",
    "one_hot_age = one_hot_age.rename({1:\"child\", 2:\"teen\", 3:\"young_adult\", 4:\"adult\", 5:\"old\"}, axis=\"columns\")\n",
    "df_train = pd.concat([df_train, one_hot_age], axis=1)\n",
    "\n",
    "one_hot_age = pd.get_dummies(df_test.age_bins)\n",
    "one_hot_age = one_hot_age.rename({1:\"child\", 2:\"teen\", 3:\"young_adult\", 4:\"adult\", 5:\"old\"}, axis=\"columns\")\n",
    "df_test = pd.concat([df_test, one_hot_age], axis=1)"
   ]
  },
  {
   "cell_type": "markdown",
   "metadata": {
    "id": "T6_V8ewBGPbl"
   },
   "source": [
    "### Plot number of siblings and/or spouse"
   ]
  },
  {
   "cell_type": "code",
   "execution_count": 14,
   "metadata": {
    "colab": {
     "base_uri": "https://localhost:8080/",
     "height": 314
    },
    "id": "pAY6WIPaGPEV",
    "outputId": "666b86ea-b3bb-4f5d-e8e9-c1b6f8631a98"
   },
   "outputs": [
    {
     "data": {
      "text/plain": [
       "<AxesSubplot:title={'center':'Siblings and/or Spouse'}, xlabel='Sibling/Spouse count'>"
      ]
     },
     "execution_count": 14,
     "metadata": {},
     "output_type": "execute_result"
    },
    {
     "data": {
      "image/png": "[encoded data removed]",
      "text/plain": [
       "<Figure size 432x288 with 1 Axes>"
      ]
     },
     "metadata": {
      "needs_background": "light"
     },
     "output_type": "display_data"
    }
   ],
   "source": [
    "df_train.sibsp.value_counts().plot(kind=\"bar\", title=\"Siblings and/or Spouse\", xlabel=\"Sibling/Spouse count\", rot=0)"
   ]
  },
  {
   "cell_type": "code",
   "execution_count": 15,
   "metadata": {
    "colab": {
     "base_uri": "https://localhost:8080/"
    },
    "id": "eT059imuvLTV",
    "outputId": "efe21233-c060-41a1-8c7a-c9d73a6067f9"
   },
   "outputs": [
    {
     "name": "stdout",
     "output_type": "stream",
     "text": [
      "1 0.541095890410959\n",
      "0 0.3388235294117647\n",
      "4 0.14285714285714285\n",
      "3 0.2727272727272727\n",
      "2 0.5238095238095238\n",
      "5 0.0\n",
      "8 0.0\n"
     ]
    }
   ],
   "source": [
    "# Survival percentage\n",
    "for i, x in enumerate(df_train.sibsp.unique()):\n",
    "    print(x, df_train.surv[df_train.sibsp == x].mean())"
   ]
  },
  {
   "cell_type": "code",
   "execution_count": 16,
   "metadata": {
    "id": "vqtIo8TJG_lF"
   },
   "outputs": [],
   "source": [
    "# Clipping feature values at 3\n",
    "df_train.sibsp = df_train.sibsp.clip(0,3)\n",
    "df_test.sibsp = df_train.sibsp.clip(0,3)"
   ]
  },
  {
   "cell_type": "code",
   "execution_count": 17,
   "metadata": {
    "id": "moyk-HQ-xF0s"
   },
   "outputs": [],
   "source": [
    "# One hot encode siblings and spouses\n",
    "one_hot_sibsp = pd.get_dummies(df_train.sibsp)\n",
    "one_hot_sibsp = one_hot_sibsp.rename({0:\"0sibsp\", 1:\"1sibsp\", 2:\"2sibsp\", 3:\"3_sibsp\"}, axis=\"columns\")\n",
    "df_train = pd.concat([df_train, one_hot_sibsp], axis=1)\n",
    "\n",
    "one_hot_sibsp = pd.get_dummies(df_test.sibsp)\n",
    "one_hot_sibsp = one_hot_sibsp.rename({0:\"0sibsp\", 1:\"1sibsp\", 2:\"2sibsp\", 3:\"3_sibsp\"}, axis=\"columns\")\n",
    "df_test = pd.concat([df_test, one_hot_sibsp], axis=1)"
   ]
  },
  {
   "cell_type": "markdown",
   "metadata": {
    "id": "9HWJ4oByM3D8"
   },
   "source": [
    "### Plot number of parents/children"
   ]
  },
  {
   "cell_type": "code",
   "execution_count": 18,
   "metadata": {
    "colab": {
     "base_uri": "https://localhost:8080/",
     "height": 314
    },
    "id": "tnVIE6xrNEy9",
    "outputId": "052fa372-2ed7-495b-95de-8da33ce2e439"
   },
   "outputs": [
    {
     "data": {
      "text/plain": [
       "<AxesSubplot:title={'center':'Numver of Parents or Children'}, xlabel='Parent/Child count'>"
      ]
     },
     "execution_count": 18,
     "metadata": {},
     "output_type": "execute_result"
    },
    {
     "data": {
      "image/png": "[encoded data removed]",
      "text/plain": [
       "<Figure size 432x288 with 1 Axes>"
      ]
     },
     "metadata": {
      "needs_background": "light"
     },
     "output_type": "display_data"
    }
   ],
   "source": [
    "df_train.parch.value_counts().plot(kind=\"bar\", title=\"Numver of Parents or Children\", xlabel=\"Parent/Child count\", rot=0)"
   ]
  },
  {
   "cell_type": "code",
   "execution_count": 19,
   "metadata": {
    "colab": {
     "base_uri": "https://localhost:8080/"
    },
    "id": "D_Sl8LfFytc1",
    "outputId": "d32f8c49-d5b9-419a-bf89-7dbc9f82b23c"
   },
   "outputs": [
    {
     "name": "stdout",
     "output_type": "stream",
     "text": [
      "0 0.34303534303534305\n",
      "1 0.5465116279069767\n",
      "5 0.3333333333333333\n",
      "2 0.48936170212765956\n",
      "3 0.75\n",
      "4 0.0\n",
      "6 0.0\n"
     ]
    }
   ],
   "source": [
    "# Surival percentage\n",
    "for i, x in enumerate(df_train.parch.unique()):\n",
    "    print(x, df_train.surv[df_train.parch == x].mean())"
   ]
  },
  {
   "cell_type": "code",
   "execution_count": 20,
   "metadata": {
    "id": "uTYrxIxqNtk_"
   },
   "outputs": [],
   "source": [
    "# Clipping parent/children values at 3\n",
    "df_train.parch = df_train.parch.clip(0,3)\n",
    "df_test.parch = df_train.parch.clip(0,3)\n",
    "# parch_bins = [0, 1, 3]\n",
    "# parch_cat = [\"0parch\" ,\"1-2parch\", \"3+parch\"]\n",
    "\n",
    "# df_train[\"parch_bins\"] = pd.cut(df_train.parch, bins=parch_bins, labels=parch_cat)\n",
    "# df_train.parch_bins.value_counts().plot(kind=\"bar\", rot=0)\n",
    "\n",
    "# df_test[\"parch_bins\"] = pd.cut(df_test.age, bins=parch_bins, labels=parch_cat)\n",
    "# df_test.parch_bins.value_counts().plot(kind=\"bar\", rot=0)"
   ]
  },
  {
   "cell_type": "code",
   "execution_count": 21,
   "metadata": {
    "id": "Fy0uCgPO0sl3"
   },
   "outputs": [],
   "source": [
    "# One hot encode parent/children\n",
    "one_hot_parch = pd.get_dummies(df_train.parch)\n",
    "one_hot_parch = one_hot_parch.rename({0:\"0parch\", 1:\"1parch\", 2:\"2parch\", 3:\"3parch\"}, axis=\"columns\")\n",
    "df_train = pd.concat([df_train, one_hot_parch], axis=1)\n",
    "\n",
    "one_hot_parch = pd.get_dummies(df_test.parch)\n",
    "one_hot_parch = one_hot_parch.rename({0:\"0parch\", 1:\"1parch\", 2:\"2parch\", 3:\"3parch\"}, axis=\"columns\")\n",
    "df_test = pd.concat([df_test, one_hot_parch], axis=1)"
   ]
  },
  {
   "cell_type": "markdown",
   "metadata": {
    "id": "NGgm9FRL66b6"
   },
   "source": [
    "### Plot fare"
   ]
  },
  {
   "cell_type": "code",
   "execution_count": 22,
   "metadata": {
    "colab": {
     "base_uri": "https://localhost:8080/",
     "height": 284
    },
    "id": "PhlPIAyl6_gT",
    "outputId": "81eea970-3e10-4f3b-ad21-8e129d383376"
   },
   "outputs": [
    {
     "data": {
      "text/plain": [
       "<AxesSubplot:ylabel='Frequency'>"
      ]
     },
     "execution_count": 22,
     "metadata": {},
     "output_type": "execute_result"
    },
    {
     "data": {
      "image/png": "[encoded data removed]",
      "text/plain": [
       "<Figure size 432x288 with 1 Axes>"
      ]
     },
     "metadata": {
      "needs_background": "light"
     },
     "output_type": "display_data"
    }
   ],
   "source": [
    "df_train.fare.plot(kind=\"hist\", bins=20)\n",
    "df_train.fare[df_train.surv == 1].plot(kind=\"hist\", bins=20)"
   ]
  },
  {
   "cell_type": "markdown",
   "metadata": {
    "id": "_b0mInVMASTC"
   },
   "source": [
    "CLIPPING FEATURE VALUES AT 150 AND NORM"
   ]
  },
  {
   "cell_type": "code",
   "execution_count": 23,
   "metadata": {
    "id": "liPkjUpo1JM4"
   },
   "outputs": [],
   "source": [
    "# Clipping at 100, than normalize\n",
    "df_train.fare = df_train.fare.clip(0, 100)\n",
    "df_train.fare = df_train.fare.round() / 100\n",
    "\n",
    "df_test.fare = df_test.fare.clip(0, 100)\n",
    "df_test.fare = df_test.fare.round() / 100"
   ]
  },
  {
   "cell_type": "code",
   "execution_count": 24,
   "metadata": {
    "colab": {
     "base_uri": "https://localhost:8080/",
     "height": 284
    },
    "id": "7ypSa0Gp1rO9",
    "outputId": "ff421a31-77bb-48c6-b775-ea77a5739061"
   },
   "outputs": [
    {
     "data": {
      "text/plain": [
       "<AxesSubplot:ylabel='Frequency'>"
      ]
     },
     "execution_count": 24,
     "metadata": {},
     "output_type": "execute_result"
    },
    {
     "data": {
      "image/png": "[encoded data removed]",
      "text/plain": [
       "<Figure size 432x288 with 1 Axes>"
      ]
     },
     "metadata": {
      "needs_background": "light"
     },
     "output_type": "display_data"
    }
   ],
   "source": [
    "df_train.fare[df_train.surv == 0].plot(kind=\"hist\", bins=20)\n",
    "df_train.fare[df_train.surv == 1].plot(kind=\"hist\", bins=20)"
   ]
  },
  {
   "cell_type": "markdown",
   "metadata": {
    "id": "0dWgGRJr9T5H"
   },
   "source": [
    "### Plot passanger class"
   ]
  },
  {
   "cell_type": "code",
   "execution_count": 25,
   "metadata": {
    "colab": {
     "base_uri": "https://localhost:8080/",
     "height": 295
    },
    "id": "k27wErYnmzBt",
    "outputId": "c9bb910e-e6e2-42a8-a690-f87ecbaca2fe"
   },
   "outputs": [
    {
     "data": {
      "image/png": "[encoded data removed]",
      "text/plain": [
       "<Figure size 432x288 with 1 Axes>"
      ]
     },
     "metadata": {
      "needs_background": "light"
     },
     "output_type": "display_data"
    }
   ],
   "source": [
    "plot_mean(df_train.pclass, df_train.surv, \"surv\", \"Survival % on each Class\")"
   ]
  },
  {
   "cell_type": "code",
   "execution_count": 26,
   "metadata": {
    "id": "zH_5ApuzAFGu"
   },
   "outputs": [],
   "source": [
    "# One hot encode Passenger Class\n",
    "# Train\n",
    "one_hot_pclass = pd.get_dummies(df_train.pclass)\n",
    "one_hot_pclass = one_hot_pclass.rename({1:\"pclass1\", 2:\"pclass2\", 3:\"pclass3\"}, axis=\"columns\")\n",
    "df_train = pd.concat([df_train, one_hot_pclass], axis=1)\n",
    "\n",
    "# Test\n",
    "one_hot_pclass_t = pd.get_dummies(df_test.pclass)\n",
    "one_hot_pclass_t = one_hot_pclass_t.rename({1:\"pclass1\", 2:\"pclass2\", 3:\"pclass3\"}, axis=\"columns\")\n",
    "df_test = pd.concat([df_test, one_hot_pclass_t], axis=1)"
   ]
  },
  {
   "cell_type": "code",
   "execution_count": 27,
   "metadata": {
    "id": "Bw6WuY1iugyu"
   },
   "outputs": [],
   "source": [
    "# Converting categorical data to numerical\n",
    "df_train = df_train.replace(['male', 'female'], [0,1])\n",
    "df_test = df_test.replace(['male', 'female'], [0,1])"
   ]
  },
  {
   "cell_type": "markdown",
   "metadata": {},
   "source": [
    "### Prep the data for train/test"
   ]
  },
  {
   "cell_type": "code",
   "execution_count": 28,
   "metadata": {
    "id": "UxfLA00EsFFd"
   },
   "outputs": [],
   "source": [
    "not_needed_tables = [\"pclass\", \"age\", \"sibsp\", \"parch\", \"emb\", \"age_bins\"]\n",
    "\n",
    "train_labels = df_train.pop(\"surv\")\n",
    "\n",
    "for name in not_needed_tables:\n",
    "    df_train.pop(name)\n",
    "    df_test.pop(name)"
   ]
  },
  {
   "cell_type": "code",
   "execution_count": 29,
   "metadata": {
    "id": "peNrtq3RHFHo"
   },
   "outputs": [],
   "source": [
    "feature_column = [tf.feature_column.numeric_column(f) for f in df_train]\n",
    "feature_layer = tf.keras.layers.DenseFeatures(feature_column)\n",
    "\n",
    "train_data = {name:np.array(value) for name, value in df_train.items()}\n",
    "train_labels = df_train_org.Survived"
   ]
  },
  {
   "cell_type": "markdown",
   "metadata": {
    "id": "ZFeKoq8OAv34"
   },
   "source": [
    "# Train"
   ]
  },
  {
   "cell_type": "code",
   "execution_count": 30,
   "metadata": {
    "cellView": "form",
    "id": "Q2upO_X2q3kk"
   },
   "outputs": [],
   "source": [
    "def create_model(my_learning_rate, feature_layer):\n",
    "    \"\"\"Create and compile the model\"\"\"\n",
    "    model = tf.keras.models.Sequential()\n",
    "    model.add(feature_layer)\n",
    "    model.add(tf.keras.layers.Dense(units=1, input_shape=(1,)))\n",
    "\n",
    "    model.compile(optimizer=tf.keras.optimizers.SGD(learning_rate=my_learning_rate),\n",
    "                loss=\"mean_squared_error\",\n",
    "                metrics=[\"accuracy\", tf.keras.metrics.RootMeanSquaredError()])\n",
    "\n",
    "    return model           \n",
    "\n",
    "\n",
    "def train_model(model, features, label, epochs, batch_size):\n",
    "    \"\"\"Train the model\"\"\"\n",
    "\n",
    "    # store the information\n",
    "    history = model.fit(x=features, y=label, batch_size=batch_size,\n",
    "                      epochs=epochs, shuffle=True)\n",
    "\n",
    "    # store the information for each epoch\n",
    "    epochs = history.epoch\n",
    "\n",
    "    # print the info out\n",
    "    hist = pd.DataFrame(history.history)\n",
    "    rmse = hist[\"root_mean_squared_error\"]\n",
    "\n",
    "    return epochs, rmse   "
   ]
  },
  {
   "cell_type": "code",
   "execution_count": 31,
   "metadata": {
    "colab": {
     "base_uri": "https://localhost:8080/"
    },
    "id": "TnL7QCwvr7Vk",
    "outputId": "18360dfa-bc20-4aec-86ea-0c246f94b28b"
   },
   "outputs": [
    {
     "name": "stdout",
     "output_type": "stream",
     "text": [
      "Epoch 1/50\n",
      "WARNING:tensorflow:Layers in a Sequential model should only have a single input tensor. Received: inputs={'male': <tf.Tensor 'IteratorGetNext:11' shape=(None,) dtype=int64>, 'fare': <tf.Tensor 'IteratorGetNext:10' shape=(None,) dtype=float32>, 'child': <tf.Tensor 'IteratorGetNext:9' shape=(None,) dtype=uint8>, 'teen': <tf.Tensor 'IteratorGetNext:16' shape=(None,) dtype=uint8>, 'young_adult': <tf.Tensor 'IteratorGetNext:17' shape=(None,) dtype=uint8>, 'adult': <tf.Tensor 'IteratorGetNext:8' shape=(None,) dtype=uint8>, 'old': <tf.Tensor 'IteratorGetNext:12' shape=(None,) dtype=uint8>, '0sibsp': <tf.Tensor 'IteratorGetNext:1' shape=(None,) dtype=uint8>, '1sibsp': <tf.Tensor 'IteratorGetNext:3' shape=(None,) dtype=uint8>, '2sibsp': <tf.Tensor 'IteratorGetNext:5' shape=(None,) dtype=uint8>, '3_sibsp': <tf.Tensor 'IteratorGetNext:6' shape=(None,) dtype=uint8>, '0parch': <tf.Tensor 'IteratorGetNext:0' shape=(None,) dtype=uint8>, '1parch': <tf.Tensor 'IteratorGetNext:2' shape=(None,) dtype=uint8>, '2parch': <tf.Tensor 'IteratorGetNext:4' shape=(None,) dtype=uint8>, '3parch': <tf.Tensor 'IteratorGetNext:7' shape=(None,) dtype=uint8>, 'pclass1': <tf.Tensor 'IteratorGetNext:13' shape=(None,) dtype=uint8>, 'pclass2': <tf.Tensor 'IteratorGetNext:14' shape=(None,) dtype=uint8>, 'pclass3': <tf.Tensor 'IteratorGetNext:15' shape=(None,) dtype=uint8>}. Consider rewriting this model with the Functional API.\n",
      "WARNING:tensorflow:Layers in a Sequential model should only have a single input tensor. Received: inputs={'male': <tf.Tensor 'IteratorGetNext:11' shape=(None,) dtype=int64>, 'fare': <tf.Tensor 'IteratorGetNext:10' shape=(None,) dtype=float32>, 'child': <tf.Tensor 'IteratorGetNext:9' shape=(None,) dtype=uint8>, 'teen': <tf.Tensor 'IteratorGetNext:16' shape=(None,) dtype=uint8>, 'young_adult': <tf.Tensor 'IteratorGetNext:17' shape=(None,) dtype=uint8>, 'adult': <tf.Tensor 'IteratorGetNext:8' shape=(None,) dtype=uint8>, 'old': <tf.Tensor 'IteratorGetNext:12' shape=(None,) dtype=uint8>, '0sibsp': <tf.Tensor 'IteratorGetNext:1' shape=(None,) dtype=uint8>, '1sibsp': <tf.Tensor 'IteratorGetNext:3' shape=(None,) dtype=uint8>, '2sibsp': <tf.Tensor 'IteratorGetNext:5' shape=(None,) dtype=uint8>, '3_sibsp': <tf.Tensor 'IteratorGetNext:6' shape=(None,) dtype=uint8>, '0parch': <tf.Tensor 'IteratorGetNext:0' shape=(None,) dtype=uint8>, '1parch': <tf.Tensor 'IteratorGetNext:2' shape=(None,) dtype=uint8>, '2parch': <tf.Tensor 'IteratorGetNext:4' shape=(None,) dtype=uint8>, '3parch': <tf.Tensor 'IteratorGetNext:7' shape=(None,) dtype=uint8>, 'pclass1': <tf.Tensor 'IteratorGetNext:13' shape=(None,) dtype=uint8>, 'pclass2': <tf.Tensor 'IteratorGetNext:14' shape=(None,) dtype=uint8>, 'pclass3': <tf.Tensor 'IteratorGetNext:15' shape=(None,) dtype=uint8>}. Consider rewriting this model with the Functional API.\n",
      "63/63 [==============================] - 0s 1ms/step - loss: 0.2992 - accuracy: 0.7276 - root_mean_squared_error: 0.5470\n",
      "Epoch 2/50\n",
      "63/63 [==============================] - 0s 1ms/step - loss: 0.2248 - accuracy: 0.7660 - root_mean_squared_error: 0.4741\n",
      "Epoch 3/50\n",
      "63/63 [==============================] - 0s 1ms/step - loss: 0.2022 - accuracy: 0.7740 - root_mean_squared_error: 0.4496\n",
      "Epoch 4/50\n",
      "63/63 [==============================] - 0s 1ms/step - loss: 0.1864 - accuracy: 0.7724 - root_mean_squared_error: 0.4318\n",
      "Epoch 5/50\n",
      "63/63 [==============================] - 0s 1ms/step - loss: 0.1748 - accuracy: 0.7772 - root_mean_squared_error: 0.4181\n",
      "Epoch 6/50\n",
      "63/63 [==============================] - 0s 1ms/step - loss: 0.1660 - accuracy: 0.7869 - root_mean_squared_error: 0.4074\n",
      "Epoch 7/50\n",
      "63/63 [==============================] - 0s 1ms/step - loss: 0.1600 - accuracy: 0.7917 - root_mean_squared_error: 0.4000\n",
      "Epoch 8/50\n",
      "63/63 [==============================] - 0s 1ms/step - loss: 0.1549 - accuracy: 0.7981 - root_mean_squared_error: 0.3935\n",
      "Epoch 9/50\n",
      "63/63 [==============================] - 0s 1ms/step - loss: 0.1509 - accuracy: 0.7965 - root_mean_squared_error: 0.3885\n",
      "Epoch 10/50\n",
      "63/63 [==============================] - 0s 1ms/step - loss: 0.1477 - accuracy: 0.8013 - root_mean_squared_error: 0.3844\n",
      "Epoch 11/50\n",
      "63/63 [==============================] - 0s 1ms/step - loss: 0.1453 - accuracy: 0.8045 - root_mean_squared_error: 0.3812\n",
      "Epoch 12/50\n",
      "63/63 [==============================] - 0s 1ms/step - loss: 0.1436 - accuracy: 0.8093 - root_mean_squared_error: 0.3789\n",
      "Epoch 13/50\n",
      "63/63 [==============================] - 0s 1ms/step - loss: 0.1410 - accuracy: 0.8061 - root_mean_squared_error: 0.3755\n",
      "Epoch 14/50\n",
      "63/63 [==============================] - 0s 1ms/step - loss: 0.1404 - accuracy: 0.8077 - root_mean_squared_error: 0.3747\n",
      "Epoch 15/50\n",
      "63/63 [==============================] - 0s 1ms/step - loss: 0.1392 - accuracy: 0.8093 - root_mean_squared_error: 0.3730\n",
      "Epoch 16/50\n",
      "63/63 [==============================] - 0s 1ms/step - loss: 0.1376 - accuracy: 0.8125 - root_mean_squared_error: 0.3709\n",
      "Epoch 17/50\n",
      "63/63 [==============================] - 0s 1ms/step - loss: 0.1378 - accuracy: 0.8109 - root_mean_squared_error: 0.3712\n",
      "Epoch 18/50\n",
      "63/63 [==============================] - 0s 1ms/step - loss: 0.1371 - accuracy: 0.8157 - root_mean_squared_error: 0.3703\n",
      "Epoch 19/50\n",
      "63/63 [==============================] - 0s 1ms/step - loss: 0.1365 - accuracy: 0.8157 - root_mean_squared_error: 0.3695\n",
      "Epoch 20/50\n",
      "63/63 [==============================] - 0s 1ms/step - loss: 0.1360 - accuracy: 0.8173 - root_mean_squared_error: 0.3688\n",
      "Epoch 21/50\n",
      "63/63 [==============================] - 0s 1ms/step - loss: 0.1356 - accuracy: 0.8141 - root_mean_squared_error: 0.3683\n",
      "Epoch 22/50\n",
      "63/63 [==============================] - 0s 1ms/step - loss: 0.1353 - accuracy: 0.8141 - root_mean_squared_error: 0.3678\n",
      "Epoch 23/50\n",
      "63/63 [==============================] - 0s 1ms/step - loss: 0.1350 - accuracy: 0.8173 - root_mean_squared_error: 0.3675\n",
      "Epoch 24/50\n",
      "63/63 [==============================] - 0s 1ms/step - loss: 0.1351 - accuracy: 0.8141 - root_mean_squared_error: 0.3676\n",
      "Epoch 25/50\n",
      "63/63 [==============================] - 0s 1ms/step - loss: 0.1350 - accuracy: 0.8141 - root_mean_squared_error: 0.3674\n",
      "Epoch 26/50\n",
      "63/63 [==============================] - 0s 952us/step - loss: 0.1342 - accuracy: 0.8157 - root_mean_squared_error: 0.3663\n",
      "Epoch 27/50\n",
      "63/63 [==============================] - 0s 1ms/step - loss: 0.1341 - accuracy: 0.8125 - root_mean_squared_error: 0.3662\n",
      "Epoch 28/50\n",
      "63/63 [==============================] - 0s 1ms/step - loss: 0.1342 - accuracy: 0.8141 - root_mean_squared_error: 0.3664\n",
      "Epoch 29/50\n",
      "63/63 [==============================] - 0s 1ms/step - loss: 0.1337 - accuracy: 0.8157 - root_mean_squared_error: 0.3657\n",
      "Epoch 30/50\n",
      "63/63 [==============================] - 0s 1ms/step - loss: 0.1340 - accuracy: 0.8125 - root_mean_squared_error: 0.3661\n",
      "Epoch 31/50\n",
      "63/63 [==============================] - 0s 1ms/step - loss: 0.1336 - accuracy: 0.8125 - root_mean_squared_error: 0.3655\n",
      "Epoch 32/50\n",
      "63/63 [==============================] - 0s 1ms/step - loss: 0.1335 - accuracy: 0.8125 - root_mean_squared_error: 0.3653\n",
      "Epoch 33/50\n",
      "63/63 [==============================] - 0s 1ms/step - loss: 0.1334 - accuracy: 0.8125 - root_mean_squared_error: 0.3652\n",
      "Epoch 34/50\n",
      "63/63 [==============================] - 0s 1ms/step - loss: 0.1333 - accuracy: 0.8141 - root_mean_squared_error: 0.3651\n",
      "Epoch 35/50\n",
      "63/63 [==============================] - 0s 1ms/step - loss: 0.1333 - accuracy: 0.8157 - root_mean_squared_error: 0.3650\n",
      "Epoch 36/50\n",
      "63/63 [==============================] - 0s 1ms/step - loss: 0.1327 - accuracy: 0.8077 - root_mean_squared_error: 0.3643\n",
      "Epoch 37/50\n",
      "63/63 [==============================] - 0s 1ms/step - loss: 0.1330 - accuracy: 0.8141 - root_mean_squared_error: 0.3647\n",
      "Epoch 38/50\n",
      "63/63 [==============================] - 0s 1ms/step - loss: 0.1331 - accuracy: 0.8125 - root_mean_squared_error: 0.3648\n",
      "Epoch 39/50\n",
      "63/63 [==============================] - 0s 1ms/step - loss: 0.1329 - accuracy: 0.8109 - root_mean_squared_error: 0.3646\n",
      "Epoch 40/50\n",
      "63/63 [==============================] - 0s 1ms/step - loss: 0.1324 - accuracy: 0.8109 - root_mean_squared_error: 0.3639\n",
      "Epoch 41/50\n",
      "63/63 [==============================] - 0s 1ms/step - loss: 0.1330 - accuracy: 0.8141 - root_mean_squared_error: 0.3647\n",
      "Epoch 42/50\n",
      "63/63 [==============================] - 0s 1ms/step - loss: 0.1327 - accuracy: 0.8141 - root_mean_squared_error: 0.3643\n",
      "Epoch 43/50\n",
      "63/63 [==============================] - 0s 1ms/step - loss: 0.1327 - accuracy: 0.8125 - root_mean_squared_error: 0.3642\n",
      "Epoch 44/50\n",
      "63/63 [==============================] - 0s 1ms/step - loss: 0.1326 - accuracy: 0.8125 - root_mean_squared_error: 0.3642\n",
      "Epoch 45/50\n",
      "63/63 [==============================] - 0s 998us/step - loss: 0.1326 - accuracy: 0.8093 - root_mean_squared_error: 0.3642\n",
      "Epoch 46/50\n",
      "63/63 [==============================] - 0s 1ms/step - loss: 0.1325 - accuracy: 0.8109 - root_mean_squared_error: 0.3640\n",
      "Epoch 47/50\n",
      "63/63 [==============================] - 0s 976us/step - loss: 0.1324 - accuracy: 0.8125 - root_mean_squared_error: 0.3638\n",
      "Epoch 48/50\n",
      "63/63 [==============================] - 0s 994us/step - loss: 0.1326 - accuracy: 0.8125 - root_mean_squared_error: 0.3641\n",
      "Epoch 49/50\n",
      "63/63 [==============================] - 0s 1ms/step - loss: 0.1323 - accuracy: 0.8125 - root_mean_squared_error: 0.3637\n",
      "Epoch 50/50\n",
      "63/63 [==============================] - 0s 1ms/step - loss: 0.1326 - accuracy: 0.8109 - root_mean_squared_error: 0.3641\n"
     ]
    }
   ],
   "source": [
    "lr = 0.01\n",
    "epochs = 50\n",
    "batch_size = 10\n",
    "\n",
    "# Create the models architecture\n",
    "titanic_model = create_model(lr, feature_layer)\n",
    "epochs, rmse = train_model(titanic_model, train_data, train_labels, epochs, batch_size)"
   ]
  },
  {
   "cell_type": "markdown",
   "metadata": {
    "id": "K2P97iUi1cn6"
   },
   "source": [
    "# NON-LINEAR SOLUTION"
   ]
  },
  {
   "cell_type": "code",
   "execution_count": 32,
   "metadata": {
    "colab": {
     "base_uri": "https://localhost:8080/"
    },
    "id": "P-I_Hm2jCtM_",
    "outputId": "a40cfb28-d224-407d-cd9a-8dd514913950"
   },
   "outputs": [
    {
     "name": "stdout",
     "output_type": "stream",
     "text": [
      "(624, 18)\n"
     ]
    }
   ],
   "source": [
    "df_to_array_buffer = df_train.copy()\n",
    "train_labels = df_train_org.Survived\n",
    "data_array = df_to_array_buffer.to_numpy()\n",
    "print(data_array.shape)\n"
   ]
  },
  {
   "cell_type": "code",
   "execution_count": 33,
   "metadata": {
    "colab": {
     "base_uri": "https://localhost:8080/"
    },
    "id": "gGUws4DkK2l1",
    "outputId": "fbcf3137-e937-4bd9-8978-e3d8f33c9095"
   },
   "outputs": [
    {
     "name": "stdout",
     "output_type": "stream",
     "text": [
      "Model: \"sequential_1\"\n",
      "_________________________________________________________________\n",
      " Layer (type)                Output Shape              Param #   \n",
      "=================================================================\n",
      " dense_1 (Dense)             (None, 32)                608       \n",
      "                                                                 \n",
      " dense_2 (Dense)             (None, 64)                2112      \n",
      "                                                                 \n",
      " dense_3 (Dense)             (None, 2)                 130       \n",
      "                                                                 \n",
      "=================================================================\n",
      "Total params: 2,850\n",
      "Trainable params: 2,850\n",
      "Non-trainable params: 0\n",
      "_________________________________________________________________\n"
     ]
    }
   ],
   "source": [
    "input_size = data_array.shape[1]\n",
    "model = tf.keras.models.Sequential([\n",
    "    layers.InputLayer(input_shape=(input_size,)),\n",
    "    layers.Dense(32, activation=\"relu\"),\n",
    "    layers.Dense(64, activation=\"relu\"),\n",
    "    layers.Dense(2, activation=\"softmax\")\n",
    "])\n",
    "\n",
    "model.compile(optimizer=tf.keras.optimizers.SGD(learning_rate=0.001, momentum=0.975), loss=\"SparseCategoricalCrossentropy\", metrics=[\"accuracy\"])\n",
    "\n",
    "model.build()\n",
    "model.summary()"
   ]
  },
  {
   "cell_type": "code",
   "execution_count": 34,
   "metadata": {
    "colab": {
     "base_uri": "https://localhost:8080/"
    },
    "id": "i3N9nLG88JrN",
    "outputId": "2f5902bc-7dea-4d90-801d-4a6ac82c0b5f"
   },
   "outputs": [
    {
     "name": "stdout",
     "output_type": "stream",
     "text": [
      "Epoch 1/50\n",
      "50/50 [==============================] - 0s 3ms/step - loss: 0.6697 - accuracy: 0.6092 - val_loss: 0.6305 - val_accuracy: 0.6480\n",
      "Epoch 2/50\n",
      "50/50 [==============================] - 0s 1ms/step - loss: 0.6136 - accuracy: 0.6273 - val_loss: 0.5526 - val_accuracy: 0.7360\n",
      "Epoch 3/50\n",
      "50/50 [==============================] - 0s 1ms/step - loss: 0.5538 - accuracy: 0.7375 - val_loss: 0.5008 - val_accuracy: 0.8160\n",
      "Epoch 4/50\n",
      "50/50 [==============================] - 0s 1ms/step - loss: 0.5022 - accuracy: 0.7615 - val_loss: 0.4433 - val_accuracy: 0.8000\n",
      "Epoch 5/50\n",
      "50/50 [==============================] - 0s 1ms/step - loss: 0.4727 - accuracy: 0.7675 - val_loss: 0.4172 - val_accuracy: 0.8080\n",
      "Epoch 6/50\n",
      "50/50 [==============================] - 0s 1ms/step - loss: 0.4546 - accuracy: 0.7856 - val_loss: 0.4029 - val_accuracy: 0.8080\n",
      "Epoch 7/50\n",
      "50/50 [==============================] - 0s 1ms/step - loss: 0.4427 - accuracy: 0.7936 - val_loss: 0.3861 - val_accuracy: 0.8240\n",
      "Epoch 8/50\n",
      "50/50 [==============================] - 0s 1ms/step - loss: 0.4344 - accuracy: 0.8116 - val_loss: 0.3796 - val_accuracy: 0.8000\n",
      "Epoch 9/50\n",
      "50/50 [==============================] - 0s 1ms/step - loss: 0.4255 - accuracy: 0.8076 - val_loss: 0.3732 - val_accuracy: 0.8160\n",
      "Epoch 10/50\n",
      "50/50 [==============================] - 0s 1ms/step - loss: 0.4233 - accuracy: 0.8036 - val_loss: 0.3631 - val_accuracy: 0.8160\n",
      "Epoch 11/50\n",
      "50/50 [==============================] - 0s 1ms/step - loss: 0.4167 - accuracy: 0.8096 - val_loss: 0.3738 - val_accuracy: 0.8400\n",
      "Epoch 12/50\n",
      "50/50 [==============================] - 0s 1ms/step - loss: 0.4132 - accuracy: 0.8156 - val_loss: 0.3554 - val_accuracy: 0.8560\n",
      "Epoch 13/50\n",
      "50/50 [==============================] - 0s 1ms/step - loss: 0.4140 - accuracy: 0.8297 - val_loss: 0.3592 - val_accuracy: 0.8560\n",
      "Epoch 14/50\n",
      "50/50 [==============================] - 0s 1ms/step - loss: 0.4098 - accuracy: 0.8116 - val_loss: 0.3543 - val_accuracy: 0.8160\n",
      "Epoch 15/50\n",
      "50/50 [==============================] - 0s 1ms/step - loss: 0.4043 - accuracy: 0.8156 - val_loss: 0.3530 - val_accuracy: 0.8240\n",
      "Epoch 16/50\n",
      "50/50 [==============================] - 0s 1ms/step - loss: 0.4016 - accuracy: 0.8257 - val_loss: 0.3485 - val_accuracy: 0.8560\n",
      "Epoch 17/50\n",
      "50/50 [==============================] - 0s 1ms/step - loss: 0.4008 - accuracy: 0.8317 - val_loss: 0.3513 - val_accuracy: 0.8560\n",
      "Epoch 18/50\n",
      "50/50 [==============================] - 0s 1ms/step - loss: 0.3991 - accuracy: 0.8257 - val_loss: 0.3555 - val_accuracy: 0.8400\n",
      "Epoch 19/50\n",
      "50/50 [==============================] - 0s 1ms/step - loss: 0.3961 - accuracy: 0.8377 - val_loss: 0.3507 - val_accuracy: 0.8400\n",
      "Epoch 20/50\n",
      "50/50 [==============================] - 0s 1ms/step - loss: 0.3958 - accuracy: 0.8397 - val_loss: 0.3457 - val_accuracy: 0.8400\n",
      "Epoch 21/50\n",
      "50/50 [==============================] - 0s 1ms/step - loss: 0.3935 - accuracy: 0.8337 - val_loss: 0.3459 - val_accuracy: 0.8400\n",
      "Epoch 22/50\n",
      "50/50 [==============================] - 0s 1ms/step - loss: 0.3978 - accuracy: 0.8297 - val_loss: 0.3437 - val_accuracy: 0.8480\n",
      "Epoch 23/50\n",
      "50/50 [==============================] - 0s 1ms/step - loss: 0.4113 - accuracy: 0.8377 - val_loss: 0.3812 - val_accuracy: 0.8240\n",
      "Epoch 24/50\n",
      "50/50 [==============================] - 0s 1ms/step - loss: 0.3963 - accuracy: 0.8397 - val_loss: 0.3495 - val_accuracy: 0.8480\n",
      "Epoch 25/50\n",
      "50/50 [==============================] - 0s 1ms/step - loss: 0.3962 - accuracy: 0.8477 - val_loss: 0.3384 - val_accuracy: 0.8640\n",
      "Epoch 26/50\n",
      "50/50 [==============================] - 0s 1ms/step - loss: 0.3933 - accuracy: 0.8417 - val_loss: 0.3409 - val_accuracy: 0.8400\n",
      "Epoch 27/50\n",
      "50/50 [==============================] - 0s 1ms/step - loss: 0.3855 - accuracy: 0.8337 - val_loss: 0.3424 - val_accuracy: 0.8400\n",
      "Epoch 28/50\n",
      "50/50 [==============================] - 0s 1ms/step - loss: 0.3812 - accuracy: 0.8317 - val_loss: 0.3454 - val_accuracy: 0.8240\n",
      "Epoch 29/50\n",
      "50/50 [==============================] - 0s 1ms/step - loss: 0.3837 - accuracy: 0.8357 - val_loss: 0.3527 - val_accuracy: 0.8480\n",
      "Epoch 30/50\n",
      "50/50 [==============================] - 0s 1ms/step - loss: 0.3786 - accuracy: 0.8457 - val_loss: 0.3423 - val_accuracy: 0.8400\n",
      "Epoch 31/50\n",
      "50/50 [==============================] - 0s 1ms/step - loss: 0.3788 - accuracy: 0.8457 - val_loss: 0.3533 - val_accuracy: 0.8480\n",
      "Epoch 32/50\n",
      "50/50 [==============================] - 0s 1ms/step - loss: 0.3749 - accuracy: 0.8457 - val_loss: 0.3383 - val_accuracy: 0.8480\n",
      "Epoch 33/50\n",
      "50/50 [==============================] - 0s 1ms/step - loss: 0.3774 - accuracy: 0.8357 - val_loss: 0.3517 - val_accuracy: 0.8480\n",
      "Epoch 34/50\n",
      "50/50 [==============================] - 0s 1ms/step - loss: 0.3747 - accuracy: 0.8417 - val_loss: 0.3409 - val_accuracy: 0.8240\n",
      "Epoch 35/50\n",
      "50/50 [==============================] - 0s 1ms/step - loss: 0.3764 - accuracy: 0.8337 - val_loss: 0.3605 - val_accuracy: 0.8160\n",
      "Epoch 36/50\n",
      "50/50 [==============================] - 0s 1ms/step - loss: 0.3775 - accuracy: 0.8437 - val_loss: 0.3487 - val_accuracy: 0.8480\n",
      "Epoch 37/50\n",
      "50/50 [==============================] - 0s 1ms/step - loss: 0.3724 - accuracy: 0.8397 - val_loss: 0.3455 - val_accuracy: 0.8480\n",
      "Epoch 38/50\n",
      "50/50 [==============================] - 0s 1ms/step - loss: 0.3706 - accuracy: 0.8397 - val_loss: 0.3603 - val_accuracy: 0.8480\n",
      "Epoch 39/50\n",
      "50/50 [==============================] - 0s 1ms/step - loss: 0.3804 - accuracy: 0.8437 - val_loss: 0.3607 - val_accuracy: 0.8400\n",
      "Epoch 40/50\n",
      "50/50 [==============================] - 0s 1ms/step - loss: 0.3776 - accuracy: 0.8337 - val_loss: 0.3477 - val_accuracy: 0.8320\n",
      "Epoch 41/50\n",
      "50/50 [==============================] - 0s 1ms/step - loss: 0.3922 - accuracy: 0.8337 - val_loss: 0.3587 - val_accuracy: 0.8320\n",
      "Epoch 42/50\n",
      "50/50 [==============================] - 0s 1ms/step - loss: 0.3797 - accuracy: 0.8277 - val_loss: 0.3563 - val_accuracy: 0.8400\n",
      "Epoch 43/50\n",
      "50/50 [==============================] - 0s 1ms/step - loss: 0.3732 - accuracy: 0.8417 - val_loss: 0.3537 - val_accuracy: 0.8400\n",
      "Epoch 44/50\n",
      "50/50 [==============================] - 0s 1ms/step - loss: 0.3868 - accuracy: 0.8277 - val_loss: 0.3523 - val_accuracy: 0.8320\n",
      "Epoch 45/50\n",
      "50/50 [==============================] - 0s 1ms/step - loss: 0.3721 - accuracy: 0.8317 - val_loss: 0.3697 - val_accuracy: 0.8400\n",
      "Epoch 46/50\n",
      "50/50 [==============================] - 0s 1ms/step - loss: 0.3678 - accuracy: 0.8497 - val_loss: 0.3527 - val_accuracy: 0.8480\n",
      "Epoch 47/50\n",
      "50/50 [==============================] - 0s 1ms/step - loss: 0.3615 - accuracy: 0.8397 - val_loss: 0.3540 - val_accuracy: 0.8480\n",
      "Epoch 48/50\n",
      "50/50 [==============================] - 0s 1ms/step - loss: 0.3682 - accuracy: 0.8397 - val_loss: 0.3601 - val_accuracy: 0.8400\n",
      "Epoch 49/50\n",
      "50/50 [==============================] - 0s 1ms/step - loss: 0.3687 - accuracy: 0.8417 - val_loss: 0.3613 - val_accuracy: 0.8400\n",
      "Epoch 50/50\n",
      "50/50 [==============================] - 0s 1ms/step - loss: 0.3743 - accuracy: 0.8397 - val_loss: 0.3514 - val_accuracy: 0.8320\n"
     ]
    },
    {
     "data": {
      "text/plain": [
       "<keras.callbacks.History at 0x1c44db1a220>"
      ]
     },
     "execution_count": 34,
     "metadata": {},
     "output_type": "execute_result"
    }
   ],
   "source": [
    "model.fit(x=data_array, y=train_labels, batch_size=10, epochs=50, validation_split=0.2)"
   ]
  },
  {
   "cell_type": "markdown",
   "metadata": {},
   "source": [
    "## Make predictions"
   ]
  },
  {
   "cell_type": "code",
   "execution_count": 35,
   "metadata": {
    "id": "ZqOHhZi1NTJ_"
   },
   "outputs": [],
   "source": [
    "df_pred = df_test.copy()\n",
    "test_data = df_pred.to_numpy()\n",
    "result = model.predict(test_data)"
   ]
  },
  {
   "cell_type": "code",
   "execution_count": 36,
   "metadata": {
    "id": "Ur_mDNdYPf3_"
   },
   "outputs": [],
   "source": [
    "# Format the output\n",
    "data = []\n",
    "for i, r in enumerate(result):\n",
    "    surv = 0\n",
    "    if r[0] < r[1]:\n",
    "        surv = 1\n",
    "    id = df_test_org.PassengerId.loc[i]\n",
    "    data.append([id, surv])"
   ]
  },
  {
   "cell_type": "code",
   "execution_count": 37,
   "metadata": {
    "id": "-xKru0c5RbiA"
   },
   "outputs": [],
   "source": [
    "result_df = pd.DataFrame(data)\n",
    "result_df = result_df.rename({0:\"PassengerId\", 1:\"Survived\"}, axis=\"columns\")"
   ]
  },
  {
   "cell_type": "code",
   "execution_count": 38,
   "metadata": {
    "colab": {
     "base_uri": "https://localhost:8080/"
    },
    "id": "mnOOdMNAU4xh",
    "outputId": "f8a938b8-ac6c-42ca-81c8-93286145201e"
   },
   "outputs": [
    {
     "data": {
      "text/html": [
       "<div>\n",
       "<style scoped>\n",
       "    .dataframe tbody tr th:only-of-type {\n",
       "        vertical-align: middle;\n",
       "    }\n",
       "\n",
       "    .dataframe tbody tr th {\n",
       "        vertical-align: top;\n",
       "    }\n",
       "\n",
       "    .dataframe thead th {\n",
       "        text-align: right;\n",
       "    }\n",
       "</style>\n",
       "<table border=\"1\" class=\"dataframe\">\n",
       "  <thead>\n",
       "    <tr style=\"text-align: right;\">\n",
       "      <th></th>\n",
       "      <th>PassengerId</th>\n",
       "      <th>Survived</th>\n",
       "    </tr>\n",
       "  </thead>\n",
       "  <tbody>\n",
       "    <tr>\n",
       "      <th>0</th>\n",
       "      <td>4</td>\n",
       "      <td>1</td>\n",
       "    </tr>\n",
       "    <tr>\n",
       "      <th>1</th>\n",
       "      <td>6</td>\n",
       "      <td>0</td>\n",
       "    </tr>\n",
       "    <tr>\n",
       "      <th>2</th>\n",
       "      <td>7</td>\n",
       "      <td>0</td>\n",
       "    </tr>\n",
       "    <tr>\n",
       "      <th>3</th>\n",
       "      <td>8</td>\n",
       "      <td>1</td>\n",
       "    </tr>\n",
       "    <tr>\n",
       "      <th>4</th>\n",
       "      <td>9</td>\n",
       "      <td>1</td>\n",
       "    </tr>\n",
       "    <tr>\n",
       "      <th>...</th>\n",
       "      <td>...</td>\n",
       "      <td>...</td>\n",
       "    </tr>\n",
       "    <tr>\n",
       "      <th>262</th>\n",
       "      <td>880</td>\n",
       "      <td>1</td>\n",
       "    </tr>\n",
       "    <tr>\n",
       "      <th>263</th>\n",
       "      <td>882</td>\n",
       "      <td>0</td>\n",
       "    </tr>\n",
       "    <tr>\n",
       "      <th>264</th>\n",
       "      <td>886</td>\n",
       "      <td>1</td>\n",
       "    </tr>\n",
       "    <tr>\n",
       "      <th>265</th>\n",
       "      <td>887</td>\n",
       "      <td>0</td>\n",
       "    </tr>\n",
       "    <tr>\n",
       "      <th>266</th>\n",
       "      <td>890</td>\n",
       "      <td>0</td>\n",
       "    </tr>\n",
       "  </tbody>\n",
       "</table>\n",
       "<p>267 rows × 2 columns</p>\n",
       "</div>"
      ],
      "text/plain": [
       "     PassengerId  Survived\n",
       "0              4         1\n",
       "1              6         0\n",
       "2              7         0\n",
       "3              8         1\n",
       "4              9         1\n",
       "..           ...       ...\n",
       "262          880         1\n",
       "263          882         0\n",
       "264          886         1\n",
       "265          887         0\n",
       "266          890         0\n",
       "\n",
       "[267 rows x 2 columns]"
      ]
     },
     "execution_count": 38,
     "metadata": {},
     "output_type": "execute_result"
    }
   ],
   "source": [
    "# result_df.to_csv(\"titanic_results.csv\", index=False)\n",
    "result_df"
   ]
  },
  {
   "cell_type": "code",
   "execution_count": null,
   "metadata": {},
   "outputs": [],
   "source": []
  }
 ],
 "metadata": {
  "colab": {
   "name": "KPMG_clean_2.ipynb",
   "provenance": []
  },
  "kernelspec": {
   "display_name": "Python 3 (ipykernel)",
   "language": "python",
   "name": "python3"
  },
  "language_info": {
   "codemirror_mode": {
    "name": "ipython",
    "version": 3
   },
   "file_extension": ".py",
   "mimetype": "text/x-python",
   "name": "python",
   "nbconvert_exporter": "python",
   "pygments_lexer": "ipython3",
   "version": "3.9.7"
  }
 },
 "nbformat": 4,
 "nbformat_minor": 1
}
